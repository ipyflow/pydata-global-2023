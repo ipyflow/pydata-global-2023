{
 "cells": [
  {
   "cell_type": "code",
   "execution_count": null,
   "id": "4de2ed66-0ae9-4dcb-b595-6635959fc165",
   "metadata": {
    "slideshow": {
     "slide_type": "skip"
    },
    "tags": []
   },
   "outputs": [],
   "source": [
    "%flow deregister_tracer ipyflow.tracing.ipyflow_tracer.DataflowTracer"
   ]
  },
  {
   "cell_type": "markdown",
   "id": "eb5d59ed-7e47-4aad-86de-31b9a36b84ae",
   "metadata": {
    "editable": true,
    "slideshow": {
     "slide_type": "slide"
    },
    "tags": []
   },
   "source": [
    "# Python as a Hackable Language for Interactive Data Science\n",
    "\n",
    "### Stephen Macke\n",
    "### PyData Global 2023"
   ]
  },
  {
   "cell_type": "markdown",
   "id": "151a9f05-1192-4447-82e7-382ff4c97720",
   "metadata": {
    "slideshow": {
     "slide_type": "slide"
    },
    "tags": []
   },
   "source": [
    "# About me"
   ]
  },
  {
   "cell_type": "markdown",
   "id": "8a236636-8276-4f6a-9e13-bf83a4786a97",
   "metadata": {
    "slideshow": {
     "slide_type": "fragment"
    },
    "tags": []
   },
   "source": [
    "- Engineer at Databricks based in Seattle area"
   ]
  },
  {
   "cell_type": "markdown",
   "id": "f2d7b3c0-03b2-4727-88d2-45cef330bf0c",
   "metadata": {
    "slideshow": {
     "slide_type": "fragment"
    },
    "tags": []
   },
   "source": [
    "- Passionate about computational notebook technology"
   ]
  },
  {
   "cell_type": "markdown",
   "id": "5b5ea173-2319-4774-8ed4-cb47e7b642ff",
   "metadata": {
    "slideshow": {
     "slide_type": "fragment"
    },
    "tags": []
   },
   "source": [
    "- When not working on OSS projects, I help my wife out in our garden, which our cat has recently figured out how to escape from"
   ]
  },
  {
   "cell_type": "markdown",
   "id": "87700348-c8b7-4671-b4dc-7c616ef260f5",
   "metadata": {
    "slideshow": {
     "slide_type": "slide"
    },
    "tags": []
   },
   "source": [
    "# Who this presentation is for"
   ]
  },
  {
   "cell_type": "markdown",
   "id": "4e4eecdf-4a37-441b-bc9c-d0d3efcd38d5",
   "metadata": {
    "slideshow": {
     "slide_type": "fragment"
    },
    "tags": []
   },
   "source": [
    "- Users of data-adjacent Python tools"
   ]
  },
  {
   "cell_type": "markdown",
   "id": "ef3f107a-fcd0-4ac6-a648-5d8b0b65e5e8",
   "metadata": {
    "slideshow": {
     "slide_type": "fragment"
    },
    "tags": []
   },
   "source": [
    "- Implementors of Python tools"
   ]
  },
  {
   "cell_type": "markdown",
   "id": "73cebb89-529e-44e9-ab53-64a5b189d2e7",
   "metadata": {
    "slideshow": {
     "slide_type": "fragment"
    },
    "tags": []
   },
   "source": [
    "- Very basic knowledge of Python / Jupyter is assumed"
   ]
  },
  {
   "cell_type": "markdown",
   "id": "e87e3e6e-c04e-41d2-ad45-99112aa0fa1c",
   "metadata": {
    "slideshow": {
     "slide_type": "slide"
    },
    "tags": []
   },
   "source": [
    "# Why is Python great for data science?"
   ]
  },
  {
   "cell_type": "markdown",
   "id": "727d5340-3ba1-4770-a8db-e9adc6b49bb4",
   "metadata": {
    "slideshow": {
     "slide_type": "fragment"
    },
    "tags": []
   },
   "source": [
    "- Ecosystem of data-adjacent libraries"
   ]
  },
  {
   "cell_type": "markdown",
   "id": "8adfafe2-3364-41d9-9a00-5bae3f8f309e",
   "metadata": {
    "slideshow": {
     "slide_type": "fragment"
    },
    "tags": []
   },
   "source": [
    "- It has great (OSS) tooling for *interactive programming*\n",
    "    - **IPython / Jupyter**, Spyder, VSCode notebooks, Marimo..."
   ]
  },
  {
   "cell_type": "markdown",
   "id": "971cd142-2f02-47a1-a903-b36174dc5705",
   "metadata": {
    "slideshow": {
     "slide_type": "slide"
    },
    "tags": []
   },
   "source": [
    "# Underappreciated aspect: language extensibility"
   ]
  },
  {
   "cell_type": "markdown",
   "id": "756becc1-66c1-4a8c-a17d-b49acc1079a5",
   "metadata": {
    "slideshow": {
     "slide_type": "fragment"
    },
    "tags": []
   },
   "source": [
    "- simplest example: top-level await in IPython"
   ]
  },
  {
   "cell_type": "code",
   "execution_count": null,
   "id": "10a8b0dd-cd35-4fe7-a808-e6f7581d7c03",
   "metadata": {
    "slideshow": {
     "slide_type": "fragment"
    },
    "tags": []
   },
   "outputs": [],
   "source": [
    "async def foo():\n",
    "    return 42"
   ]
  },
  {
   "cell_type": "code",
   "execution_count": null,
   "id": "c59a8cd0-ea2b-4620-80b6-9d0079cab6c5",
   "metadata": {
    "tags": []
   },
   "outputs": [],
   "source": [
    "await foo()"
   ]
  },
  {
   "cell_type": "code",
   "execution_count": null,
   "id": "1d073079-612d-4827-b0ea-49203226f5b1",
   "metadata": {
    "slideshow": {
     "slide_type": "fragment"
    },
    "tags": []
   },
   "outputs": [],
   "source": [
    "# much more convenient than:\n",
    "import asyncio\n",
    "asyncio.get_event_loop().run_until_complete(foo())"
   ]
  },
  {
   "cell_type": "markdown",
   "id": "27cde1cf-3fa0-4875-99c9-bfe2741f8187",
   "metadata": {
    "slideshow": {
     "slide_type": "slide"
    },
    "tags": []
   },
   "source": [
    "# Abstract Syntax Tree Transformations"
   ]
  },
  {
   "cell_type": "markdown",
   "id": "d912b3f7-4035-4b73-be49-77d58c613032",
   "metadata": {
    "slideshow": {
     "slide_type": "fragment"
    },
    "tags": []
   },
   "source": [
    "- IPython top-level \"await\" is an example of an *AST transformation*"
   ]
  },
  {
   "cell_type": "markdown",
   "id": "63fc5eea-8de4-4839-95b1-2e2c646e21e8",
   "metadata": {
    "slideshow": {
     "slide_type": "fragment"
    },
    "tags": []
   },
   "source": [
    "- Python exposes an API for AST transformations via *AST visitors*"
   ]
  },
  {
   "cell_type": "markdown",
   "id": "c2dc692f-3e71-405a-a367-327678e596de",
   "metadata": {
    "slideshow": {
     "slide_type": "fragment"
    },
    "tags": []
   },
   "source": [
    "- What interactive features can we enable if we leverage these to their full extent?"
   ]
  },
  {
   "cell_type": "markdown",
   "id": "d25712ec-a681-4074-be22-ddc3eab394ad",
   "metadata": {
    "slideshow": {
     "slide_type": "slide"
    },
    "tags": []
   },
   "source": [
    "# Let's look at some examples!"
   ]
  },
  {
   "cell_type": "markdown",
   "id": "f093c833-6885-4d7d-bab1-36ca26b67e28",
   "metadata": {
    "slideshow": {
     "slide_type": "fragment"
    },
    "tags": []
   },
   "source": [
    "- All examples leverage an instrumentation library called pyccolo (https://github.com/smacke/pyccolo)"
   ]
  },
  {
   "cell_type": "markdown",
   "id": "d90363aa-2108-431d-8861-a3f9c2d86382",
   "metadata": {
    "slideshow": {
     "slide_type": "fragment"
    },
    "tags": []
   },
   "source": [
    "- They run within the ipyflow kernel (https://github.com/ipyflow/ipyflow), which exposes an API to hook into pyccolo functionality"
   ]
  },
  {
   "cell_type": "markdown",
   "id": "ab8f7fdb-048a-4912-a232-3dae6a286cf4",
   "metadata": {
    "slideshow": {
     "slide_type": "fragment"
    },
    "tags": []
   },
   "source": [
    "- This presentation is just a notebook. You can download it at https://github.com/ipyflow/pydata-global-2023 and run the examples in it yourself"
   ]
  },
  {
   "cell_type": "markdown",
   "id": "452a402f-d35d-4534-bafd-1278728d3f67",
   "metadata": {
    "slideshow": {
     "slide_type": "slide"
    },
    "tags": []
   },
   "source": [
    "# Example: Optional chaining"
   ]
  },
  {
   "cell_type": "markdown",
   "id": "2c35e480-5689-4fc7-8427-62d66f68c570",
   "metadata": {
    "slideshow": {
     "slide_type": "fragment"
    },
    "tags": []
   },
   "source": [
    "- \"Recent\" flavors of javascript have an awesome syntax for optional chaining / maybe monads"
   ]
  },
  {
   "cell_type": "markdown",
   "id": "141ec1f4-79ba-4ec0-822d-7d17ec909873",
   "metadata": {
    "slideshow": {
     "slide_type": "fragment"
    },
    "tags": []
   },
   "source": [
    "- E.g. a?.b?.c?.()?.d()?.e"
   ]
  },
  {
   "cell_type": "markdown",
   "id": "3eedf670-5288-41cf-ace2-acb48aa4e14d",
   "metadata": {
    "slideshow": {
     "slide_type": "fragment"
    },
    "tags": []
   },
   "source": [
    "- We can imbue Python with these abilities as well!"
   ]
  },
  {
   "cell_type": "code",
   "execution_count": null,
   "id": "df16cc35-003c-4cf0-875d-802219aa2041",
   "metadata": {
    "slideshow": {
     "slide_type": "fragment"
    },
    "tags": []
   },
   "outputs": [],
   "source": [
    "%flow register_tracer pyccolo.examples.OptionalChainer"
   ]
  },
  {
   "cell_type": "code",
   "execution_count": null,
   "id": "7b90d7fe-50a0-4900-9609-4361e16cd7e9",
   "metadata": {
    "slideshow": {
     "slide_type": "fragment"
    },
    "tags": []
   },
   "outputs": [],
   "source": [
    "from typing import Optional\n",
    "class Foo:\n",
    "    foo = 42\n",
    "    bar: Optional[\"Foo\"] = None"
   ]
  },
  {
   "cell_type": "code",
   "execution_count": null,
   "id": "3e0b9dad-6a7d-433e-9fa3-1482a8932f99",
   "metadata": {
    "slideshow": {
     "slide_type": "fragment"
    },
    "tags": []
   },
   "outputs": [],
   "source": [
    "Foo?.foo"
   ]
  },
  {
   "cell_type": "code",
   "execution_count": null,
   "id": "6940e96e-d32c-46c8-be79-765486c609ff",
   "metadata": {
    "slideshow": {
     "slide_type": "fragment"
    },
    "tags": []
   },
   "outputs": [],
   "source": [
    "Foo.bar?.foo is None"
   ]
  },
  {
   "cell_type": "code",
   "execution_count": null,
   "id": "d394f3ce-4b88-480f-aad0-e18e82df8730",
   "metadata": {
    "slideshow": {
     "slide_type": "fragment"
    },
    "tags": []
   },
   "outputs": [],
   "source": [
    "Foo.bar?.baz()?.bam is None"
   ]
  },
  {
   "cell_type": "markdown",
   "id": "cc93bf6e-0d20-464b-a4a2-874ff248b690",
   "metadata": {
    "slideshow": {
     "slide_type": "slide"
    },
    "tags": []
   },
   "source": [
    "# Example: make assignment to simple variables non-blocking"
   ]
  },
  {
   "cell_type": "markdown",
   "id": "37e9b35c-4c3b-4f77-a4a0-4436d5134358",
   "metadata": {
    "slideshow": {
     "slide_type": "fragment"
    },
    "tags": []
   },
   "source": [
    "- Idea: make all variable assignment \"instantaneous\"!"
   ]
  },
  {
   "cell_type": "markdown",
   "id": "e963e55b-2c19-4bee-a3b0-3b2b92958350",
   "metadata": {
    "slideshow": {
     "slide_type": "fragment"
    },
    "tags": []
   },
   "source": [
    "- Only only block if variable is used in a load context (i.e. as an rval)"
   ]
  },
  {
   "cell_type": "markdown",
   "id": "99d500a7-2065-4d06-865f-47423f6275c2",
   "metadata": {
    "slideshow": {
     "slide_type": "fragment"
    },
    "tags": []
   },
   "source": [
    "- Unless! the load context is itself part of a simple variable assignment :)"
   ]
  },
  {
   "cell_type": "code",
   "execution_count": null,
   "id": "cc4f3fa7-5c10-4fbd-9e74-f62915b4d66a",
   "metadata": {
    "editable": true,
    "slideshow": {
     "slide_type": "fragment"
    },
    "tags": []
   },
   "outputs": [],
   "source": [
    "%flow deregister_tracer pyccolo.examples.OptionalChainer\n",
    "%flow register_tracer pyccolo.examples.FutureTracer"
   ]
  },
  {
   "cell_type": "code",
   "execution_count": null,
   "id": "94eece42-d8c5-42b5-b0a2-86a417237a32",
   "metadata": {
    "editable": true,
    "slideshow": {
     "slide_type": "fragment"
    },
    "tags": []
   },
   "outputs": [],
   "source": [
    "import time\n",
    "def expensive(x):\n",
    "    time.sleep(3)\n",
    "    return x"
   ]
  },
  {
   "cell_type": "code",
   "execution_count": null,
   "id": "bf4a0028-87d2-4969-90df-fcf8644f1aa6",
   "metadata": {
    "editable": true,
    "slideshow": {
     "slide_type": "fragment"
    },
    "tags": []
   },
   "outputs": [],
   "source": [
    "x = expensive(1)"
   ]
  },
  {
   "cell_type": "code",
   "execution_count": null,
   "id": "8e455f5e-35e3-4a3e-b4cb-ba35ba256796",
   "metadata": {
    "editable": true,
    "slideshow": {
     "slide_type": "fragment"
    },
    "tags": []
   },
   "outputs": [],
   "source": [
    "y = x + 10"
   ]
  },
  {
   "cell_type": "code",
   "execution_count": null,
   "id": "8b10245e-4428-4de7-8bcf-360b5b4d91d5",
   "metadata": {
    "editable": true,
    "slideshow": {
     "slide_type": "fragment"
    },
    "tags": []
   },
   "outputs": [],
   "source": [
    "z = y + expensive(2)"
   ]
  },
  {
   "cell_type": "code",
   "execution_count": null,
   "id": "5be5913b-abbf-4d76-9be1-75a8382cb87b",
   "metadata": {
    "editable": true,
    "slideshow": {
     "slide_type": "fragment"
    },
    "tags": []
   },
   "outputs": [],
   "source": [
    "z"
   ]
  },
  {
   "cell_type": "markdown",
   "id": "1c7cff0d-d19f-40ff-89d9-961a8bddc8ad",
   "metadata": {
    "slideshow": {
     "slide_type": "slide"
    },
    "tags": []
   },
   "source": [
    "# Example: reactive execution"
   ]
  },
  {
   "cell_type": "markdown",
   "id": "44c96835-1e2e-4a4a-854c-348d8069ea3d",
   "metadata": {
    "slideshow": {
     "slide_type": "fragment"
    },
    "tags": []
   },
   "source": [
    "- \"State problem\" / out-of-order execution well documented in notebooks"
   ]
  },
  {
   "cell_type": "markdown",
   "id": "cf906d06-fe1a-4f1e-8294-1721cfa3df1e",
   "metadata": {
    "slideshow": {
     "slide_type": "fragment"
    },
    "tags": []
   },
   "source": [
    "- (Partial) solution: reactively rerun dependent cells!"
   ]
  },
  {
   "cell_type": "code",
   "execution_count": null,
   "id": "56caa622-4d40-4318-a111-94cb8594177b",
   "metadata": {
    "slideshow": {
     "slide_type": "fragment"
    },
    "tags": []
   },
   "outputs": [],
   "source": [
    "%flow deregister_tracer pyccolo.examples.FutureTracer\n",
    "%flow register_tracer ipyflow.tracing.ipyflow_tracer.DataflowTracer"
   ]
  },
  {
   "cell_type": "code",
   "execution_count": null,
   "id": "96541a34-395c-454d-b5b8-b5403e8bc273",
   "metadata": {
    "slideshow": {
     "slide_type": "fragment"
    },
    "tags": []
   },
   "outputs": [],
   "source": [
    "x = 0"
   ]
  },
  {
   "cell_type": "code",
   "execution_count": null,
   "id": "1b57b449-80ad-4d53-9690-6f5e6331287e",
   "metadata": {
    "slideshow": {
     "slide_type": "fragment"
    },
    "tags": []
   },
   "outputs": [],
   "source": [
    "y = x + 1"
   ]
  },
  {
   "cell_type": "code",
   "execution_count": null,
   "id": "3ffa3fc6-9b9c-4a92-899b-4e30cc1eefa2",
   "metadata": {
    "slideshow": {
     "slide_type": "fragment"
    },
    "tags": []
   },
   "outputs": [],
   "source": [
    "print(\"hello\")"
   ]
  },
  {
   "cell_type": "code",
   "execution_count": null,
   "id": "45cc2e56-dc1b-404c-bf22-ff4507365cb7",
   "metadata": {
    "slideshow": {
     "slide_type": "fragment"
    },
    "tags": []
   },
   "outputs": [],
   "source": [
    "y"
   ]
  },
  {
   "cell_type": "markdown",
   "id": "359f996c-2f6e-412c-87f9-87acfcbf7d67",
   "metadata": {
    "slideshow": {
     "slide_type": "fragment"
    },
    "tags": []
   },
   "source": [
    "- Anything with a dot: has dataflow relationship with selected cell"
   ]
  },
  {
   "cell_type": "markdown",
   "id": "5847347e-229a-4d83-a439-24f32c5a1eee",
   "metadata": {
    "slideshow": {
     "slide_type": "fragment"
    },
    "tags": []
   },
   "source": [
    "- Anything with an *orange* dot: will also execute when the selected cell executes"
   ]
  },
  {
   "cell_type": "markdown",
   "id": "b940abdd-3477-4bc7-9892-4dd7d46e579d",
   "metadata": {
    "slideshow": {
     "slide_type": "slide"
    },
    "tags": []
   },
   "source": [
    "# Reactive execution: great for interactive widgets"
   ]
  },
  {
   "cell_type": "code",
   "execution_count": null,
   "id": "6b7755f4-ed93-4e45-9fef-11cc65b5b15b",
   "metadata": {
    "slideshow": {
     "slide_type": "fragment"
    },
    "tags": []
   },
   "outputs": [],
   "source": [
    "import numpy as np\n",
    "import matplotlib.pyplot as plt\n",
    "\n",
    "xs = np.linspace(0, 10, 1000)"
   ]
  },
  {
   "cell_type": "code",
   "execution_count": null,
   "id": "49cf30ab-a3cb-4118-8184-5fb3bf6e2c5d",
   "metadata": {
    "slideshow": {
     "slide_type": "fragment"
    },
    "tags": []
   },
   "outputs": [],
   "source": [
    "from ipywidgets import IntSlider\n",
    "slider = IntSlider(min=1, max=10)"
   ]
  },
  {
   "cell_type": "code",
   "execution_count": null,
   "id": "1b6c28c5-1a0d-4be2-a7ba-2a2fe7c785af",
   "metadata": {
    "slideshow": {
     "slide_type": "fragment"
    },
    "tags": []
   },
   "outputs": [],
   "source": [
    "fig = plt.figure(figsize=(5, 2))\n",
    "plt.plot(xs, np.cos(xs * slider.value))"
   ]
  },
  {
   "cell_type": "code",
   "execution_count": null,
   "id": "1b88d2d6-d47d-4f22-afb8-c170cebdbc25",
   "metadata": {
    "slideshow": {
     "slide_type": "fragment"
    },
    "tags": []
   },
   "outputs": [],
   "source": [
    "slider"
   ]
  },
  {
   "cell_type": "markdown",
   "id": "afd4975e-0977-4397-abce-af3f9e1d6fef",
   "metadata": {
    "slideshow": {
     "slide_type": "slide"
    },
    "tags": []
   },
   "source": [
    "# Why do we need AST transformation / instrumentation for reactivity?"
   ]
  },
  {
   "cell_type": "markdown",
   "id": "920a4ff4-0a97-41b4-a540-b011e57b9ed2",
   "metadata": {
    "slideshow": {
     "slide_type": "fragment"
    },
    "tags": []
   },
   "source": [
    "- For easy cases, static analysis suffices"
   ]
  },
  {
   "cell_type": "markdown",
   "id": "4eddba32-a11f-4eff-85ad-ff91affed8c7",
   "metadata": {
    "slideshow": {
     "slide_type": "fragment"
    },
    "tags": []
   },
   "source": [
    "- For harder cases, there's no avoiding it:"
   ]
  },
  {
   "cell_type": "code",
   "execution_count": null,
   "id": "80bb6140-a509-40f7-8bb3-40b7c3c4bfaa",
   "metadata": {
    "slideshow": {
     "slide_type": "fragment"
    },
    "tags": []
   },
   "outputs": [],
   "source": [
    "x = y = 0"
   ]
  },
  {
   "cell_type": "code",
   "execution_count": null,
   "id": "1122128a-62af-4c59-ab39-f170eb8f5f08",
   "metadata": {
    "slideshow": {
     "slide_type": "fragment"
    },
    "tags": []
   },
   "outputs": [],
   "source": [
    "import random\n",
    "if random.random() < 0.5:\n",
    "    x += 1\n",
    "else:\n",
    "    y += 1"
   ]
  },
  {
   "cell_type": "code",
   "execution_count": null,
   "id": "18dfd4e1-6ce9-474e-a31e-174fe45c0184",
   "metadata": {
    "slideshow": {
     "slide_type": "fragment"
    },
    "tags": []
   },
   "outputs": [],
   "source": [
    "x"
   ]
  },
  {
   "cell_type": "code",
   "execution_count": null,
   "id": "81079943-7131-40ab-9b14-0acc343bf9ee",
   "metadata": {
    "slideshow": {
     "slide_type": "fragment"
    },
    "tags": []
   },
   "outputs": [],
   "source": [
    "y"
   ]
  },
  {
   "cell_type": "markdown",
   "id": "3685d639-7d98-452c-8191-1c470268f4e4",
   "metadata": {
    "slideshow": {
     "slide_type": "slide"
    },
    "tags": []
   },
   "source": [
    "# Also needed for anything requiring runtime introspection"
   ]
  },
  {
   "cell_type": "markdown",
   "id": "f8adbabf-213f-4405-b50f-7b3c342dc6c2",
   "metadata": {
    "slideshow": {
     "slide_type": "fragment"
    },
    "tags": []
   },
   "source": [
    "- Example: memoization. Skip code that would give the same result!"
   ]
  },
  {
   "cell_type": "code",
   "execution_count": null,
   "id": "656875e3-d3cf-43ba-9455-242d10646b7a",
   "metadata": {
    "slideshow": {
     "slide_type": "fragment"
    },
    "tags": []
   },
   "outputs": [],
   "source": [
    "import time"
   ]
  },
  {
   "cell_type": "code",
   "execution_count": null,
   "id": "7a4402f8-1ece-43fc-8858-3541ad8afaea",
   "metadata": {
    "slideshow": {
     "slide_type": "fragment"
    },
    "tags": []
   },
   "outputs": [],
   "source": [
    "class Foo:\n",
    "    def slow_method(self):\n",
    "        time.sleep(2)\n",
    "        return 0"
   ]
  },
  {
   "cell_type": "code",
   "execution_count": null,
   "id": "47a05b54-1eff-40ac-a03e-18ac6a640ef9",
   "metadata": {
    "slideshow": {
     "slide_type": "fragment"
    },
    "tags": []
   },
   "outputs": [],
   "source": [
    "%%memoize\n",
    "d = {\"foo\": Foo()}"
   ]
  },
  {
   "cell_type": "code",
   "execution_count": null,
   "id": "37810666-fd07-4665-ab0d-667bb085b7cc",
   "metadata": {
    "slideshow": {
     "slide_type": "fragment"
    },
    "tags": []
   },
   "outputs": [],
   "source": [
    "%%memoize\n",
    "ans = d[\"foo\"].slow_method() + 7\n",
    "ans"
   ]
  },
  {
   "cell_type": "markdown",
   "id": "275d8947-e76c-4fb0-9704-8f74b7f4c229",
   "metadata": {
    "slideshow": {
     "slide_type": "slide"
    },
    "tags": []
   },
   "source": [
    "# How does all this work?"
   ]
  },
  {
   "cell_type": "markdown",
   "id": "1ca943b9-31a8-45c0-bfb5-61dc20b5593a",
   "metadata": {
    "slideshow": {
     "slide_type": "fragment"
    },
    "tags": []
   },
   "source": [
    "- Traditional AST transformers: hard to register multiple because they do not *compose*"
   ]
  },
  {
   "cell_type": "markdown",
   "id": "e5b6f4c6-5cc1-4d68-97e9-3878a9c3ac0c",
   "metadata": {
    "slideshow": {
     "slide_type": "fragment"
    },
    "tags": []
   },
   "source": [
    "- These examples all use a library called *pyccolo* (https://github.com/smacke/pyccolo)"
   ]
  },
  {
   "cell_type": "markdown",
   "id": "964a54d9-f8d2-438d-ac9f-c712cd90c8fa",
   "metadata": {
    "slideshow": {
     "slide_type": "fragment"
    },
    "tags": []
   },
   "source": [
    "- pyccolo allows for composable AST transformations"
   ]
  },
  {
   "cell_type": "code",
   "execution_count": null,
   "id": "8c58eb75-ffa2-496f-a9bd-1118181acfd2",
   "metadata": {
    "slideshow": {
     "slide_type": "fragment"
    },
    "tags": []
   },
   "outputs": [],
   "source": [
    "import ast\n",
    "import pyccolo as pyc\n",
    "\n",
    "class IncrementOneTracer(pyc.BaseTracer):\n",
    "    @pyc.register_handler(pyc.right_binop_arg)\n",
    "    def right_arg(self, ret, *_, **__):\n",
    "        return ret + 1"
   ]
  },
  {
   "cell_type": "code",
   "execution_count": null,
   "id": "e21c962b-c66d-4a1a-ac19-f572a5d6070d",
   "metadata": {
    "slideshow": {
     "slide_type": "fragment"
    },
    "tags": []
   },
   "outputs": [],
   "source": [
    "%flow register_tracer IncrementOneTracer"
   ]
  },
  {
   "cell_type": "code",
   "execution_count": null,
   "id": "52b3a5d2-e11e-4a01-a66a-4ded18bdbb42",
   "metadata": {
    "slideshow": {
     "slide_type": "fragment"
    },
    "tags": []
   },
   "outputs": [],
   "source": [
    "2 + 2"
   ]
  },
  {
   "cell_type": "code",
   "execution_count": null,
   "id": "5184a8d2-f396-4c50-8a40-976e8b05329c",
   "metadata": {
    "slideshow": {
     "slide_type": "fragment"
    },
    "tags": []
   },
   "outputs": [],
   "source": [
    "class IncrementTwoTracer(pyc.BaseTracer):\n",
    "    @pyc.register_handler(pyc.right_binop_arg)\n",
    "    def right_arg(self, ret, *_, **__):\n",
    "        return ret + 2"
   ]
  },
  {
   "cell_type": "code",
   "execution_count": null,
   "id": "c5520c02-01c9-4100-9051-fbb2dd418a0d",
   "metadata": {
    "slideshow": {
     "slide_type": "fragment"
    },
    "tags": []
   },
   "outputs": [],
   "source": [
    "%flow register_tracer IncrementTwoTracer"
   ]
  },
  {
   "cell_type": "code",
   "execution_count": null,
   "id": "7bc87495-6243-44ac-b811-feb91722b411",
   "metadata": {
    "slideshow": {
     "slide_type": "fragment"
    },
    "tags": []
   },
   "outputs": [],
   "source": [
    "2 + 2"
   ]
  },
  {
   "cell_type": "markdown",
   "id": "b2c69aa1-bc5d-468b-866e-c31cf2aa9768",
   "metadata": {
    "slideshow": {
     "slide_type": "slide"
    },
    "tags": []
   },
   "source": [
    "# Conclusion"
   ]
  },
  {
   "cell_type": "markdown",
   "id": "c3364d60-0e65-4d70-9051-262f84a9d102",
   "metadata": {
    "slideshow": {
     "slide_type": "fragment"
    },
    "tags": []
   },
   "source": [
    "- Python is surprisingly hackable"
   ]
  },
  {
   "cell_type": "markdown",
   "id": "28be7f52-017c-4f65-978c-0e4f9b7fb3bb",
   "metadata": {
    "slideshow": {
     "slide_type": "fragment"
    },
    "tags": []
   },
   "source": [
    "- Its hackability enables all kinds of interesting interactive use cases"
   ]
  },
  {
   "cell_type": "markdown",
   "id": "e5d1340d-3f1e-45f1-b6ec-bd4c82b4ca03",
   "metadata": {
    "slideshow": {
     "slide_type": "fragment"
    },
    "tags": []
   },
   "source": [
    "- Play around with these examples yourself at https://github.com/ipyflow/pydata-global-2023 or https://github.com/smacke/pyccolo/tree/master/pyccolo/examples"
   ]
  },
  {
   "cell_type": "markdown",
   "id": "0e3c66d2-a2ee-47b2-b3a7-6605d9aaf31c",
   "metadata": {
    "slideshow": {
     "slide_type": "slide"
    },
    "tags": []
   },
   "source": [
    "# Q & A"
   ]
  },
  {
   "cell_type": "markdown",
   "id": "07114179-234f-46ff-a03e-ff2ee5ed9d11",
   "metadata": {},
   "source": [
    "## stephen.macke@gmail.com"
   ]
  },
  {
   "cell_type": "markdown",
   "id": "f16599c5-d063-426f-aacf-3e3ff7ff0ce4",
   "metadata": {
    "tags": []
   },
   "source": [
    "## https://smacke.net"
   ]
  },
  {
   "cell_type": "markdown",
   "id": "757a8ca0-d2ed-4ec1-9ff3-9a84e3ddcd5e",
   "metadata": {
    "tags": []
   },
   "source": [
    "## https://github.com/ipyflow/ipyflow"
   ]
  }
 ],
 "metadata": {
  "ipyflow": {
   "cell_children": {
    "0c2db9f5-9188-4384-b812-ae705c8fb273": [],
    "442b64dc-1373-409f-b449-721561403ae7": [],
    "94eece42-d8c5-42b5-b0a2-86a417237a32": [],
    "95568792-606e-45fa-b75e-53b76088ad7a": [
     "442b64dc-1373-409f-b449-721561403ae7"
    ],
    "c5090905-4748-474d-86e5-6f501ae32492": [
     "95568792-606e-45fa-b75e-53b76088ad7a"
    ],
    "cc4f3fa7-5c10-4fbd-9e74-f62915b4d66a": [],
    "d7f33263-d5f1-4f02-8fc1-01fd772b2d4f": []
   },
   "cell_parents": {
    "0c2db9f5-9188-4384-b812-ae705c8fb273": [],
    "442b64dc-1373-409f-b449-721561403ae7": [
     "95568792-606e-45fa-b75e-53b76088ad7a"
    ],
    "94eece42-d8c5-42b5-b0a2-86a417237a32": [],
    "95568792-606e-45fa-b75e-53b76088ad7a": [
     "c5090905-4748-474d-86e5-6f501ae32492"
    ],
    "c5090905-4748-474d-86e5-6f501ae32492": [],
    "cc4f3fa7-5c10-4fbd-9e74-f62915b4d66a": [],
    "d7f33263-d5f1-4f02-8fc1-01fd772b2d4f": []
   }
  },
  "kernelspec": {
   "display_name": "Python 3 (ipyflow)",
   "language": "python",
   "name": "ipyflow"
  },
  "language_info": {
   "codemirror_mode": {
    "name": "ipython",
    "version": 3
   },
   "file_extension": ".py",
   "mimetype": "text/x-python",
   "name": "python",
   "nbconvert_exporter": "python",
   "pygments_lexer": "ipython3",
   "version": "3.11.6"
  }
 },
 "nbformat": 4,
 "nbformat_minor": 5
}
